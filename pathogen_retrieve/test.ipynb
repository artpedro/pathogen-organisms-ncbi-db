{
 "cells": [
  {
   "cell_type": "code",
   "execution_count": 6,
   "metadata": {},
   "outputs": [
    {
     "ename": "TypeError",
     "evalue": "unsupported operand type(s) for +: 'int' and 'str'",
     "output_type": "error",
     "traceback": [
      "\u001b[0;31m---------------------------------------------------------------------------\u001b[0m",
      "\u001b[0;31mTypeError\u001b[0m                                 Traceback (most recent call last)",
      "\u001b[0;32m/tmp/ipykernel_6813/1396855072.py\u001b[0m in \u001b[0;36m<module>\u001b[0;34m\u001b[0m\n\u001b[1;32m     85\u001b[0m \u001b[0;34m\u001b[0m\u001b[0m\n\u001b[1;32m     86\u001b[0m     \u001b[0mn\u001b[0m \u001b[0;34m=\u001b[0m \u001b[0mi\u001b[0m\u001b[0;34m.\u001b[0m\u001b[0msplit\u001b[0m\u001b[0;34m(\u001b[0m\u001b[0msep\u001b[0m\u001b[0;34m=\u001b[0m\u001b[0;34m' '\u001b[0m\u001b[0;34m)\u001b[0m\u001b[0;34m[\u001b[0m\u001b[0;36m1\u001b[0m\u001b[0;34m]\u001b[0m\u001b[0;34m\u001b[0m\u001b[0;34m\u001b[0m\u001b[0m\n\u001b[0;32m---> 87\u001b[0;31m     \u001b[0mw\u001b[0m \u001b[0;34m=\u001b[0m \u001b[0mw\u001b[0m \u001b[0;34m+\u001b[0m \u001b[0mn\u001b[0m\u001b[0;34m\u001b[0m\u001b[0;34m\u001b[0m\u001b[0m\n\u001b[0m\u001b[1;32m     88\u001b[0m     \u001b[0mprint\u001b[0m\u001b[0;34m(\u001b[0m\u001b[0mn\u001b[0m\u001b[0;34m)\u001b[0m\u001b[0;34m\u001b[0m\u001b[0;34m\u001b[0m\u001b[0m\n\u001b[1;32m     89\u001b[0m \u001b[0mprint\u001b[0m\u001b[0;34m(\u001b[0m\u001b[0mw\u001b[0m\u001b[0;34m)\u001b[0m\u001b[0;34m\u001b[0m\u001b[0;34m\u001b[0m\u001b[0m\n",
      "\u001b[0;31mTypeError\u001b[0m: unsupported operand type(s) for +: 'int' and 'str'"
     ]
    }
   ],
   "source": [
    "a = '''Acinetobacter: 514 entradas\n",
    "Aeromonas: 37 entradas\n",
    "Aeromonas_salmonicida: 21 entradas\n",
    "Aeromonas_sobria: 0 entradas\n",
    "Aeromonas_veronii: 35 entradas\n",
    "Bacillus_cereus_group: 80 entradas\n",
    "Burkholderia_cepacia_complex: 89 entradas\n",
    "Campylobacter: 317 entradas\n",
    "Candida_auris: 41 entradas\n",
    "Citrobacter_freundii: 69 entradas\n",
    "Clostridioides_difficile: 85 entradas\n",
    "Clostridium_botulinum: 14 entradas\n",
    "Clostridium_perfringens: 24 entradas\n",
    "Corynebacterium_striatum: 6 entradas\n",
    "Cronobacter: 5 entradas\n",
    "Edwardsiella_ictaluri: 5 entradas\n",
    "Edwardsiella_piscicida: 13 entradas\n",
    "Edwardsiella_tarda: 5 entradas\n",
    "Elizabethkingia: 55 entradas\n",
    "Enterobacter_asburiae: 16 entradas\n",
    "Enterobacter_bugandensis: 4 entradas\n",
    "Enterobacter_cancerogenus: 2 entradas\n",
    "Enterobacter_chengduensis: 1 entradas\n",
    "Enterobacter_chuandaensis: 0 entradas\n",
    "Enterobacter_cloacae: 23 entradas\n",
    "Enterobacter_hormaechei: 178 entradas\n",
    "Enterobacter_kobei: 12 entradas\n",
    "Enterobacter_ludwigii: 6 entradas\n",
    "Enterobacter_mori: 2 entradas\n",
    "Enterobacter_oligotrophicus: 0 entradas\n",
    "Enterobacter_roggenkampii: 18 entradas\n",
    "Enterobacter_sichuanensis: 0 entradas\n",
    "Enterobacter_soli: 0 entradas\n",
    "Enterococcus_faecalis: 137 entradas\n",
    "Enterococcus_faecium: 228 entradas\n",
    "Escherichia_coli_Shigella: 2083 entradas\n",
    "Flavobacterium_psychrophilum: 8 entradas\n",
    "Klebsiella: 1809 entradas\n",
    "Klebsiella_oxytoca: 77 entradas\n",
    "Kluyvera_intermedia: 2 entradas\n",
    "Kosakonia_oryzendophytica: 0 entradas\n",
    "Kosakonia_oryziphila: 0 entradas\n",
    "Legionella_pneumophila: 42 entradas\n",
    "Listeria: 137 entradas\n",
    "Listeria_innocua: 5 entradas\n",
    "Mannheimia_haemolytica: 101 entradas\n",
    "Morganella: 29 entradas\n",
    "Mycobacterium_tuberculosis: 303 entradas\n",
    "Neisseria_gonorrhoeae: 117 entradas\n",
    "Neisseria_lactamica: 3 entradas\n",
    "Neisseria_meningitidis: 104 entradas\n",
    "Neisseria_polysaccharea: 0 entradas\n",
    "Pasteurella_multocida: 118 entradas\n",
    "Photobacterium_damselae: 15 entradas\n",
    "Phytobacter_massiliensis: 0 entradas\n",
    "Pluralibacter_gergoviae: 1 entradas\n",
    "Providencia: 105 entradas\n",
    "Pseudomonas_aeruginosa: 551 entradas\n",
    "Pseudomonas_putida: 19 entradas\n",
    "Salmonella: 736 entradas\n",
    "Serratia: 65 entradas\n",
    "Shewanella_algae: 12 entradas\n",
    "Staphylococcus_aureus: 1131 entradas\n",
    "Staphylococcus_pseudintermedius: 113 entradas\n",
    "Stenotrophomonas_maltophilia: 24 entradas\n",
    "Streptococcus_agalactiae: 99 entradas\n",
    "Streptococcus_equi: 23 entradas\n",
    "Streptococcus_iniae: 6 entradas\n",
    "Streptococcus_pneumoniae: 133 entradas\n",
    "Streptococcus_pyogenes: 234 entradas\n",
    "Streptococcus_suis: 98 entradas\n",
    "Treponema_pallidum: 11 entradas\n",
    "Vibrio_cholerae: 40 entradas\n",
    "Vibrio_fluvialis: 6 entradas\n",
    "Vibrio_harveyi: 22 entradas\n",
    "Vibrio_metschnikovii: 0 entradas\n",
    "Vibrio_parahaemolyticus: 62 entradas\n",
    "Vibrio_vulnificus: 12 entradas\n",
    "Yersinia_enterocolitica: 6 entradas\n",
    "Yersinia_ruckeri: 23 entradas'''\n",
    "\n",
    "a = a.split(sep='\\n')\n",
    "w = 0\n",
    "for i in a:\n",
    "\n",
    "    n = i.split(sep=' ')[1]\n",
    "    w = w + int(n)\n",
    "    print(n)\n",
    "print(w)"
   ]
  },
  {
   "cell_type": "code",
   "execution_count": 38,
   "metadata": {},
   "outputs": [
    {
     "name": "stdout",
     "output_type": "stream",
     "text": [
      "['t', 't', 't']\n",
      "{'Photobacterium damselae subsp. piscicid': 0, 'Photobacterium damselae subsp. piscicida': 0, 'Photobacterium damselae subsp. damselae': 0}\n"
     ]
    }
   ],
   "source": [
    "species =   {\"Photobacterium damselae subsp. damselae\",\n",
    "  \"Photobacterium damselae subsp. piscicida\",\n",
    "  \"Photobacterium damselae subsp. piscicida\",\n",
    "  \"Photobacterium damselae subsp. piscicid\",\n",
    "  \"Photobacterium damselae\",\n",
    "  \"Photobacterium damselae strain 3242\"}\n",
    "print([j for j in [i.split()[3] for i in species if ((len(i.split())>3) and (i.split()[2] == \"subsp.\"))]])\n",
    "print({k:[i for i in [i[3] for i in species if ((len(i.split())>3) and (i.split()[2] == \"subsp.\"))]].count(k) for k in set([i for i in species if ((len(i.split())>3) and (i.split()[2] == \"subsp.\"))])})"
   ]
  },
  {
   "cell_type": "code",
   "execution_count": 5,
   "metadata": {},
   "outputs": [
    {
     "name": "stdout",
     "output_type": "stream",
     "text": [
      "handle gerado\n",
      "record gerado\n",
      "1955\n",
      "1955\n",
      "1955\n"
     ]
    }
   ],
   "source": [
    "import json\n",
    "idlist = search_results[\"IdList\"]\n",
    "handle = Entrez.esummary(db='assembly', id=idlist)\n",
    "print('handle gerado')\n",
    "record = Entrez.read(handle)\n",
    "print('record gerado')\n",
    "\n",
    "#json dos sumários de onde eu extraio os asm id e bio uid\n",
    "with open('all_record.json','w') as txt:\n",
    "    record_json = json.dumps(record,indent=1)\n",
    "\n",
    "    txt.write(record_json)\n",
    "summary = record['DocumentSummarySet']['DocumentSummary']\n",
    "asm_idlist = []\n",
    "bsm_idlist = []    \n",
    "for uid in summary:\n",
    "    asm_idlist.append(uid['AssemblyAccession'])\n",
    "    bsm_idlist.append(uid['BioSampleId'])\n",
    "print(len(asm_idlist))\n",
    "print(len(bsm_idlist))\n",
    "\n",
    "handle = Entrez.esummary(db='BioSample',id=bsm_idlist)\n",
    "record = Entrez.read(handle)\n",
    "# json com as informações que eu consigo do biosample\n",
    "with open('bsm_record.json','w') as txt:\n",
    "    record_json = json.dumps(record,indent=1)\n",
    "    txt.write(record_json)\n",
    "summary = record['DocumentSummarySet']['DocumentSummary']\n",
    "print(len(summary))"
   ]
  },
  {
   "cell_type": "code",
   "execution_count": null,
   "metadata": {},
   "outputs": [],
   "source": [
    "# xml com as informações que eu consigo no \"SampleData\" das informações do BioSample\n",
    "import xml.etree.ElementTree as ET\n",
    "\n",
    "element = ET.XML(summary[0][\"SampleData\"])\n",
    "ET.indent(element)\n",
    "print(ET.tostring(element, encoding='unicode'))"
   ]
  },
  {
   "cell_type": "code",
   "execution_count": null,
   "metadata": {},
   "outputs": [],
   "source": [
    "# Set the email address to use for the Entrez API\n",
    "Entrez.email = \"your.email@example.com\"\n",
    "\n",
    "# Set the search parameters\n",
    "search_term = \"Salmonella_Enterica[Orgn] and \\\"complete genome\\\"[filter]\"\n",
    "db = \"assembly\"\n",
    "retmax = 10  # max number of records to return\n",
    "\n",
    "# Search for records using the Entrez API\n",
    "handle = Entrez.esearch(db=db, term=search_term, retmax=retmax)\n",
    "record = Entrez.read(handle)\n",
    "\n",
    "# Get the list of record IDs from the search results\n",
    "id_list = record[\"IdList\"]\n",
    "print(id_list)\n",
    "# Fetch the records and print them\n",
    "for record_id in id_list:\n",
    "    handle = Entrez.esummary(db=db, id=record_id)\n",
    "    record = Entrez.read(handle)\n",
    "    summary = record['DocumentSummarySet']['DocumentSummary'][0]\n",
    "    print(summary['BioSampleAccn'],summary['BioSampleId'],\"\\n\",summary['AssemblyAccession'])\n",
    "    handle = Entrez.esummary(db='BioSample', id=summary['BioSampleId'])\n",
    "    record = Entrez.read(handle)\n",
    "    summary = record['DocumentSummarySet']['DocumentSummary'][0]\n",
    "    for i in summary.keys():\n",
    "        print(i,\": \", summary[i])\n",
    "    \n"
   ]
  },
  {
   "cell_type": "code",
   "execution_count": 11,
   "metadata": {},
   "outputs": [],
   "source": [
    "with open(f'logs/test_log_ids.json','w') as log:\n",
    "    data = {'label':\n",
    "    {'name':f'a',\n",
    "    'count':f'count'\n",
    "    ,'date':f'data'\n",
    "    },\n",
    "    'entries':{}\n",
    "    }\n",
    "    for i,j in zip(asm_idlist,bsm_idlist):\n",
    "        data['entries'][i]=j\n",
    "    a = json.dumps(data,indent=1)\n",
    "    log.write(a)"
   ]
  },
  {
   "cell_type": "code",
   "execution_count": 14,
   "metadata": {},
   "outputs": [
    {
     "name": "stdout",
     "output_type": "stream",
     "text": [
      "<http.client.HTTPResponse object at 0x7f24e054bf40>\n"
     ]
    }
   ],
   "source": [
    "import time\n",
    "handle = Entrez.esearch(db='assembly', term=f\"(\\\"Aeromonas_sobria\\\"[Organism] OR Aeromonas_sobria[All Fields]) AND (latest[filter] AND \\\"complete genome\\\"[filter] AND all[filter] NOT anomalous[filter])\",idtype=\"acc\",retmax = '100000')\n",
    "time.sleep(0.37)\n",
    "record = Entrez.read(handle)\n",
    "print(record)"
   ]
  },
  {
   "cell_type": "code",
   "execution_count": 8,
   "metadata": {},
   "outputs": [
    {
     "name": "stdout",
     "output_type": "stream",
     "text": [
      "foo\n",
      "aaaa\n"
     ]
    }
   ],
   "source": [
    "ids = {'entries':{'foo':'bar','aaaa':'bbbb'}}\n",
    "#ids = json.load(json_ids)\n",
    "for id in ids['entries']:\n",
    "    print(id)\n",
    "\n"
   ]
  }
 ],
 "metadata": {
  "kernelspec": {
   "display_name": "venv",
   "language": "python",
   "name": "python3"
  },
  "language_info": {
   "codemirror_mode": {
    "name": "ipython",
    "version": 3
   },
   "file_extension": ".py",
   "mimetype": "text/x-python",
   "name": "python",
   "nbconvert_exporter": "python",
   "pygments_lexer": "ipython3",
   "version": "3.9.13"
  },
  "orig_nbformat": 4
 },
 "nbformat": 4,
 "nbformat_minor": 2
}
