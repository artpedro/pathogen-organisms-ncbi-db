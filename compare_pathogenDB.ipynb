{
 "cells": [
  {
   "cell_type": "code",
   "execution_count": 244,
   "metadata": {},
   "outputs": [],
   "source": [
    "import pandas as pd\n",
    "import numpy as np \n",
    "import json as js\n",
    "import matplotlib.pyplot as plt\n",
    "import seaborn as sns\n",
    "import os"
   ]
  },
  {
   "cell_type": "code",
   "execution_count": 259,
   "metadata": {},
   "outputs": [
    {
     "name": "stdout",
     "output_type": "stream",
     "text": [
      "(1513, 10)\n"
     ]
    },
    {
     "data": {
      "text/html": [
       "<div>\n",
       "<style scoped>\n",
       "    .dataframe tbody tr th:only-of-type {\n",
       "        vertical-align: middle;\n",
       "    }\n",
       "\n",
       "    .dataframe tbody tr th {\n",
       "        vertical-align: top;\n",
       "    }\n",
       "\n",
       "    .dataframe thead th {\n",
       "        text-align: right;\n",
       "    }\n",
       "</style>\n",
       "<table border=\"1\" class=\"dataframe\">\n",
       "  <thead>\n",
       "    <tr style=\"text-align: right;\">\n",
       "      <th></th>\n",
       "      <th>superkingdom</th>\n",
       "      <th>phylum</th>\n",
       "      <th>class</th>\n",
       "      <th>order</th>\n",
       "      <th>family</th>\n",
       "      <th>genus</th>\n",
       "      <th>species</th>\n",
       "      <th>year</th>\n",
       "      <th>status</th>\n",
       "      <th>reference</th>\n",
       "    </tr>\n",
       "  </thead>\n",
       "  <tbody>\n",
       "    <tr>\n",
       "      <th>349</th>\n",
       "      <td>Bacteria</td>\n",
       "      <td>Proteobacteria</td>\n",
       "      <td>Gammaproteobacteria</td>\n",
       "      <td>Pasteurellales</td>\n",
       "      <td>Pasteurellaceae</td>\n",
       "      <td>Actinobacillus</td>\n",
       "      <td>suis</td>\n",
       "      <td>1962</td>\n",
       "      <td>established</td>\n",
       "      <td>Taylor et al</td>\n",
       "    </tr>\n",
       "    <tr>\n",
       "      <th>392</th>\n",
       "      <td>Bacteria</td>\n",
       "      <td>Firmicutes</td>\n",
       "      <td>Bacilli</td>\n",
       "      <td>Lactobacillales</td>\n",
       "      <td>Streptococcaceae</td>\n",
       "      <td>Streptococcus</td>\n",
       "      <td>suis</td>\n",
       "      <td>1966</td>\n",
       "      <td>established</td>\n",
       "      <td>Taylor et al</td>\n",
       "    </tr>\n",
       "    <tr>\n",
       "      <th>1209</th>\n",
       "      <td>Bacteria</td>\n",
       "      <td>Proteobacteria</td>\n",
       "      <td>Epsilonproteobacteria</td>\n",
       "      <td>Campylobacterales</td>\n",
       "      <td>Helicobacteraceae</td>\n",
       "      <td>Helicobacter</td>\n",
       "      <td>suis</td>\n",
       "      <td>2008</td>\n",
       "      <td>putative</td>\n",
       "      <td>Joosten, Myrthe, et al. \"Case report: Helicoba...</td>\n",
       "    </tr>\n",
       "  </tbody>\n",
       "</table>\n",
       "</div>"
      ],
      "text/plain": [
       "     superkingdom          phylum                  class              order  \\\n",
       "349      Bacteria  Proteobacteria    Gammaproteobacteria     Pasteurellales   \n",
       "392      Bacteria      Firmicutes                Bacilli    Lactobacillales   \n",
       "1209     Bacteria  Proteobacteria  Epsilonproteobacteria  Campylobacterales   \n",
       "\n",
       "                 family           genus species  year       status  \\\n",
       "349     Pasteurellaceae  Actinobacillus    suis  1962  established   \n",
       "392    Streptococcaceae   Streptococcus    suis  1966  established   \n",
       "1209  Helicobacteraceae    Helicobacter    suis  2008     putative   \n",
       "\n",
       "                                              reference  \n",
       "349                                        Taylor et al  \n",
       "392                                        Taylor et al  \n",
       "1209  Joosten, Myrthe, et al. \"Case report: Helicoba...  "
      ]
     },
     "execution_count": 259,
     "metadata": {},
     "output_type": "execute_result"
    }
   ],
   "source": [
    "barlettDB = pd.read_csv('all_pathogen.csv',sep=';')\n",
    "print(barlettDB.shape)\n",
    "barlettDB.loc[barlettDB['species'] == 'suis']"
   ]
  },
  {
   "cell_type": "code",
   "execution_count": 252,
   "metadata": {},
   "outputs": [
    {
     "name": "stdout",
     "output_type": "stream",
     "text": [
      "(1110, 10)\n"
     ]
    }
   ],
   "source": [
    "barlettDBE = barlettDB.loc[barlettDB['status'] == 'established']\n",
    "print(barlettDBE.shape)\n",
    "count_genus_b = barlettDB.groupby('genus').count().sort_values('species',ascending=False)\n"
   ]
  },
  {
   "cell_type": "code",
   "execution_count": 261,
   "metadata": {},
   "outputs": [
    {
     "name": "stdout",
     "output_type": "stream",
     "text": [
      "(1110, 2)\n"
     ]
    },
    {
     "data": {
      "text/html": [
       "<div>\n",
       "<style scoped>\n",
       "    .dataframe tbody tr th:only-of-type {\n",
       "        vertical-align: middle;\n",
       "    }\n",
       "\n",
       "    .dataframe tbody tr th {\n",
       "        vertical-align: top;\n",
       "    }\n",
       "\n",
       "    .dataframe thead th {\n",
       "        text-align: right;\n",
       "    }\n",
       "</style>\n",
       "<table border=\"1\" class=\"dataframe\">\n",
       "  <thead>\n",
       "    <tr style=\"text-align: right;\">\n",
       "      <th></th>\n",
       "      <th>genus</th>\n",
       "      <th>species</th>\n",
       "    </tr>\n",
       "  </thead>\n",
       "  <tbody>\n",
       "    <tr>\n",
       "      <th>333</th>\n",
       "      <td>Actinobacillus</td>\n",
       "      <td>suis</td>\n",
       "    </tr>\n",
       "    <tr>\n",
       "      <th>374</th>\n",
       "      <td>Streptococcus</td>\n",
       "      <td>suis</td>\n",
       "    </tr>\n",
       "  </tbody>\n",
       "</table>\n",
       "</div>"
      ],
      "text/plain": [
       "              genus species\n",
       "333  Actinobacillus    suis\n",
       "374   Streptococcus    suis"
      ]
     },
     "execution_count": 261,
     "metadata": {},
     "output_type": "execute_result"
    }
   ],
   "source": [
    "gen_sp_b = barlettDBE.loc[:,['genus','species']]\n",
    "print(gen_sp_b.shape)\n",
    "gen_sp_b = gen_sp_b.reset_index(drop=True)\n",
    "gen_sp_b.loc[gen_sp_b['species'] == 'suis']"
   ]
  },
  {
   "cell_type": "code",
   "execution_count": 262,
   "metadata": {},
   "outputs": [],
   "source": [
    "def readGroupsNames():\n",
    "    with open(os.path.normpath(\"pathogen-detection/data/groups/groups_name_id.json\"),\"r\") as data:\n",
    "        groups = js.load(data)\n",
    "        return groups"
   ]
  },
  {
   "cell_type": "code",
   "execution_count": 263,
   "metadata": {},
   "outputs": [
    {
     "name": "stdout",
     "output_type": "stream",
     "text": [
      "(13691, 3)\n"
     ]
    }
   ],
   "source": [
    "pathogenDB = pd.DataFrame(columns=['genus','species','host'])\n",
    "\n",
    "for group,id in readGroupsNames().items():        \n",
    "        # checando se existe informação sobre\n",
    "        if os.path.exists(f'pathogen-detection/data/groups_info/{group}/{group}_filtered.json'):\n",
    "            # carregando informação\n",
    "            with open(f'pathogen-detection/data/groups_info/{group}/{group}_filtered.json','r') as json:\n",
    "                info = js.load(json)\n",
    "\n",
    "            for entry in info:\n",
    "                if len(entry) == 2:\n",
    "                    continue\n",
    "                pathogenDB.loc[len(pathogenDB.index)] = [entry['scientific_name'].split()[0].rstrip(']').lstrip('['),entry['scientific_name'].split()[1].rstrip(']').lstrip('['),entry['host']] \n",
    "print(pathogenDB.shape)"
   ]
  },
  {
   "cell_type": "code",
   "execution_count": 264,
   "metadata": {},
   "outputs": [
    {
     "name": "stdout",
     "output_type": "stream",
     "text": [
      "all entries PathogenDB:  (13691, 3)\n",
      "only Human host:  (10519, 3)\n",
      "only Human rmDuplicates:  (132, 3)\n",
      "PathogenDB no duplicates:  (181, 3)\n"
     ]
    }
   ],
   "source": [
    "print('all entries PathogenDB: ', pathogenDB.shape)\n",
    "pathogenHDB = pathogenDB.loc[pathogenDB['host'] == 'HUMAN']\n",
    "print('only Human host: ', pathogenHDB.shape)\n",
    "pathogenHDB = pathogenHDB.drop_duplicates(['genus','species'])\n",
    "print('only Human rmDuplicates: ',pathogenHDB.shape)\n",
    "pathogenDB = pathogenDB.drop_duplicates(['genus','species'])\n",
    "print('PathogenDB no duplicates: ',pathogenDB.shape)\n",
    "pathogenHDB = pathogenHDB.reset_index(drop=True)\n",
    "pathogenDB = pathogenDB.reset_index(drop=True)"
   ]
  },
  {
   "cell_type": "code",
   "execution_count": 275,
   "metadata": {},
   "outputs": [
    {
     "name": "stdout",
     "output_type": "stream",
     "text": [
      "(132, 3)\n",
      "(1110, 2)\n"
     ]
    },
    {
     "data": {
      "text/html": [
       "<div>\n",
       "<style scoped>\n",
       "    .dataframe tbody tr th:only-of-type {\n",
       "        vertical-align: middle;\n",
       "    }\n",
       "\n",
       "    .dataframe tbody tr th {\n",
       "        vertical-align: top;\n",
       "    }\n",
       "\n",
       "    .dataframe thead th {\n",
       "        text-align: right;\n",
       "    }\n",
       "</style>\n",
       "<table border=\"1\" class=\"dataframe\">\n",
       "  <thead>\n",
       "    <tr style=\"text-align: right;\">\n",
       "      <th></th>\n",
       "      <th>genus</th>\n",
       "      <th>species</th>\n",
       "      <th>host</th>\n",
       "    </tr>\n",
       "  </thead>\n",
       "  <tbody>\n",
       "    <tr>\n",
       "      <th>2</th>\n",
       "      <td>Acinetobacter</td>\n",
       "      <td>pittii</td>\n",
       "      <td>HUMAN</td>\n",
       "    </tr>\n",
       "    <tr>\n",
       "      <th>10</th>\n",
       "      <td>Bacillus</td>\n",
       "      <td>sp.</td>\n",
       "      <td>HUMAN</td>\n",
       "    </tr>\n",
       "    <tr>\n",
       "      <th>11</th>\n",
       "      <td>Bacillus</td>\n",
       "      <td>paranthracis</td>\n",
       "      <td>HUMAN</td>\n",
       "    </tr>\n",
       "    <tr>\n",
       "      <th>12</th>\n",
       "      <td>Burkholderia</td>\n",
       "      <td>cenocepacia</td>\n",
       "      <td>HUMAN</td>\n",
       "    </tr>\n",
       "    <tr>\n",
       "      <th>28</th>\n",
       "      <td>Campylobacter</td>\n",
       "      <td>lanienae</td>\n",
       "      <td>HUMAN</td>\n",
       "    </tr>\n",
       "    <tr>\n",
       "      <th>30</th>\n",
       "      <td>Campylobacter</td>\n",
       "      <td>showae</td>\n",
       "      <td>HUMAN</td>\n",
       "    </tr>\n",
       "    <tr>\n",
       "      <th>34</th>\n",
       "      <td>Candida</td>\n",
       "      <td>auris</td>\n",
       "      <td>HUMAN</td>\n",
       "    </tr>\n",
       "    <tr>\n",
       "      <th>45</th>\n",
       "      <td>Peptacetobacter</td>\n",
       "      <td>hiranonis</td>\n",
       "      <td>HUMAN</td>\n",
       "    </tr>\n",
       "    <tr>\n",
       "      <th>47</th>\n",
       "      <td>Intestinibacter</td>\n",
       "      <td>bartlettii</td>\n",
       "      <td>HUMAN</td>\n",
       "    </tr>\n",
       "    <tr>\n",
       "      <th>51</th>\n",
       "      <td>Corynebacterium</td>\n",
       "      <td>singulare</td>\n",
       "      <td>HUMAN</td>\n",
       "    </tr>\n",
       "    <tr>\n",
       "      <th>61</th>\n",
       "      <td>Enterobacter</td>\n",
       "      <td>chengduensis</td>\n",
       "      <td>HUMAN</td>\n",
       "    </tr>\n",
       "    <tr>\n",
       "      <th>64</th>\n",
       "      <td>Enterobacter</td>\n",
       "      <td>kobei</td>\n",
       "      <td>HUMAN</td>\n",
       "    </tr>\n",
       "    <tr>\n",
       "      <th>66</th>\n",
       "      <td>Enterobacter</td>\n",
       "      <td>mori</td>\n",
       "      <td>HUMAN</td>\n",
       "    </tr>\n",
       "    <tr>\n",
       "      <th>67</th>\n",
       "      <td>Enterobacter</td>\n",
       "      <td>roggenkampii</td>\n",
       "      <td>HUMAN</td>\n",
       "    </tr>\n",
       "    <tr>\n",
       "      <th>81</th>\n",
       "      <td>Klebsiella</td>\n",
       "      <td>michiganensis</td>\n",
       "      <td>HUMAN</td>\n",
       "    </tr>\n",
       "    <tr>\n",
       "      <th>85</th>\n",
       "      <td>Klebsiella</td>\n",
       "      <td>electrica</td>\n",
       "      <td>HUMAN</td>\n",
       "    </tr>\n",
       "    <tr>\n",
       "      <th>93</th>\n",
       "      <td>Mycobacterium</td>\n",
       "      <td>canetti</td>\n",
       "      <td>HUMAN</td>\n",
       "    </tr>\n",
       "    <tr>\n",
       "      <th>115</th>\n",
       "      <td>Streptococcus</td>\n",
       "      <td>urinalis</td>\n",
       "      <td>HUMAN</td>\n",
       "    </tr>\n",
       "    <tr>\n",
       "      <th>120</th>\n",
       "      <td>Streptococcus</td>\n",
       "      <td>infantis</td>\n",
       "      <td>HUMAN</td>\n",
       "    </tr>\n",
       "    <tr>\n",
       "      <th>127</th>\n",
       "      <td>Vibrio</td>\n",
       "      <td>diabolicus</td>\n",
       "      <td>HUMAN</td>\n",
       "    </tr>\n",
       "    <tr>\n",
       "      <th>130</th>\n",
       "      <td>Vibrio</td>\n",
       "      <td>navarrensis</td>\n",
       "      <td>HUMAN</td>\n",
       "    </tr>\n",
       "  </tbody>\n",
       "</table>\n",
       "</div>"
      ],
      "text/plain": [
       "               genus        species   host\n",
       "2      Acinetobacter         pittii  HUMAN\n",
       "10          Bacillus            sp.  HUMAN\n",
       "11          Bacillus   paranthracis  HUMAN\n",
       "12      Burkholderia    cenocepacia  HUMAN\n",
       "28     Campylobacter       lanienae  HUMAN\n",
       "30     Campylobacter         showae  HUMAN\n",
       "34           Candida          auris  HUMAN\n",
       "45   Peptacetobacter      hiranonis  HUMAN\n",
       "47   Intestinibacter     bartlettii  HUMAN\n",
       "51   Corynebacterium      singulare  HUMAN\n",
       "61      Enterobacter   chengduensis  HUMAN\n",
       "64      Enterobacter          kobei  HUMAN\n",
       "66      Enterobacter           mori  HUMAN\n",
       "67      Enterobacter   roggenkampii  HUMAN\n",
       "81        Klebsiella  michiganensis  HUMAN\n",
       "85        Klebsiella      electrica  HUMAN\n",
       "93     Mycobacterium        canetti  HUMAN\n",
       "115    Streptococcus       urinalis  HUMAN\n",
       "120    Streptococcus       infantis  HUMAN\n",
       "127           Vibrio     diabolicus  HUMAN\n",
       "130           Vibrio    navarrensis  HUMAN"
      ]
     },
     "execution_count": 275,
     "metadata": {},
     "output_type": "execute_result"
    }
   ],
   "source": [
    "print(pathogenHDB.shape)\n",
    "print(gen_sp_b.shape)\n",
    "\n",
    "# Perform left outer join\n",
    "merged = pd.merge(pathogenHDB, gen_sp_b, how='left', on=['genus', 'species'], indicator=True)\n",
    "\n",
    "# Filter out the rows that are present in both dataframes\n",
    "non_intersect_rows = merged[merged['_merge'] == 'left_only']\n",
    "\n",
    "# Drop the '_merge' column\n",
    "non_intersect_rows = non_intersect_rows.drop('_merge', axis=1)\n",
    "\n",
    "# Output the non-intersect rows\n",
    "pathogenHDB_only = non_intersect_rows\n",
    "pathogenHDB_only"
   ]
  },
  {
   "cell_type": "code",
   "execution_count": 305,
   "metadata": {},
   "outputs": [
    {
     "data": {
      "text/html": [
       "<div>\n",
       "<style scoped>\n",
       "    .dataframe tbody tr th:only-of-type {\n",
       "        vertical-align: middle;\n",
       "    }\n",
       "\n",
       "    .dataframe tbody tr th {\n",
       "        vertical-align: top;\n",
       "    }\n",
       "\n",
       "    .dataframe thead th {\n",
       "        text-align: right;\n",
       "    }\n",
       "</style>\n",
       "<table border=\"1\" class=\"dataframe\">\n",
       "  <thead>\n",
       "    <tr style=\"text-align: right;\">\n",
       "      <th></th>\n",
       "      <th>superkingdom</th>\n",
       "      <th>phylum</th>\n",
       "      <th>class</th>\n",
       "      <th>order</th>\n",
       "      <th>family</th>\n",
       "      <th>genus</th>\n",
       "      <th>species</th>\n",
       "      <th>year</th>\n",
       "      <th>status</th>\n",
       "      <th>reference</th>\n",
       "    </tr>\n",
       "  </thead>\n",
       "  <tbody>\n",
       "  </tbody>\n",
       "</table>\n",
       "</div>"
      ],
      "text/plain": [
       "Empty DataFrame\n",
       "Columns: [superkingdom, phylum, class, order, family, genus, species, year, status, reference]\n",
       "Index: []"
      ]
     },
     "execution_count": 305,
     "metadata": {},
     "output_type": "execute_result"
    }
   ],
   "source": [
    "barlettDB.loc[barlettDB['species'] == 'michiganensis'] # urinalis kobei infantis auris showae lanienae "
   ]
  },
  {
   "cell_type": "markdown",
   "metadata": {},
   "source": []
  }
 ],
 "metadata": {
  "kernelspec": {
   "display_name": "gpu1",
   "language": "python",
   "name": "python3"
  },
  "language_info": {
   "codemirror_mode": {
    "name": "ipython",
    "version": 3
   },
   "file_extension": ".py",
   "mimetype": "text/x-python",
   "name": "python",
   "nbconvert_exporter": "python",
   "pygments_lexer": "ipython3",
   "version": "3.11.7"
  }
 },
 "nbformat": 4,
 "nbformat_minor": 2
}
