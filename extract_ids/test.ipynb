{
 "cells": [
  {
   "cell_type": "code",
   "execution_count": 3,
   "metadata": {},
   "outputs": [],
   "source": [
    "from Bio import Entrez\n",
    "Entrez.email = \"arturpedromartins@gmail.com\""
   ]
  },
  {
   "cell_type": "code",
   "execution_count": 4,
   "metadata": {},
   "outputs": [
    {
     "name": "stdout",
     "output_type": "stream",
     "text": [
      "1955 16539991\n"
     ]
    }
   ],
   "source": [
    "search_handle = Entrez.esearch(db=\"assembly\", term=\"(\\\"Salmonella\\\"[Organism] OR Salmonella[All Fields]) AND (latest[filter] AND \\\"complete genome\\\"[filter] AND all[filter] NOT anomalous[filter])\", usehistory=\"y\", idtype=\"acc\",retmax='100000')\n",
    "search_results = Entrez.read(search_handle)\n",
    "search_handle.close()\n",
    "\n",
    "idlist = search_results[\"IdList\"]\n",
    "\n",
    "print(len(idlist),idlist[0])"
   ]
  },
  {
   "cell_type": "code",
   "execution_count": 5,
   "metadata": {},
   "outputs": [
    {
     "name": "stdout",
     "output_type": "stream",
     "text": [
      "handle gerado\n",
      "record gerado\n",
      "1955\n",
      "1955\n",
      "1955\n"
     ]
    }
   ],
   "source": [
    "import json\n",
    "idlist = search_results[\"IdList\"]\n",
    "handle = Entrez.esummary(db='assembly', id=idlist)\n",
    "print('handle gerado')\n",
    "record = Entrez.read(handle)\n",
    "print('record gerado')\n",
    "\n",
    "#json dos sumários de onde eu extraio os asm id e bio uid\n",
    "with open('all_record.json','w') as txt:\n",
    "    record_json = json.dumps(record,indent=1)\n",
    "\n",
    "    txt.write(record_json)\n",
    "summary = record['DocumentSummarySet']['DocumentSummary']\n",
    "asm_idlist = []\n",
    "bsm_idlist = []    \n",
    "for uid in summary:\n",
    "    asm_idlist.append(uid['AssemblyAccession'])\n",
    "    bsm_idlist.append(uid['BioSampleId'])\n",
    "print(len(asm_idlist))\n",
    "print(len(bsm_idlist))\n",
    "\n",
    "handle = Entrez.esummary(db='BioSample',id=bsm_idlist)\n",
    "record = Entrez.read(handle)\n",
    "# json com as informações que eu consigo do biosample\n",
    "with open('bsm_record.json','w') as txt:\n",
    "    record_json = json.dumps(record,indent=1)\n",
    "    txt.write(record_json)\n",
    "summary = record['DocumentSummarySet']['DocumentSummary']\n",
    "print(len(summary))"
   ]
  },
  {
   "cell_type": "code",
   "execution_count": null,
   "metadata": {},
   "outputs": [],
   "source": [
    "# xml com as informações que eu consigo no \"SampleData\" das informações do BioSample\n",
    "import xml.etree.ElementTree as ET\n",
    "\n",
    "element = ET.XML(summary[0][\"SampleData\"])\n",
    "ET.indent(element)\n",
    "print(ET.tostring(element, encoding='unicode'))"
   ]
  },
  {
   "cell_type": "code",
   "execution_count": null,
   "metadata": {},
   "outputs": [],
   "source": [
    "# Set the email address to use for the Entrez API\n",
    "Entrez.email = \"your.email@example.com\"\n",
    "\n",
    "# Set the search parameters\n",
    "search_term = \"Salmonella_Enterica[Orgn] and \\\"complete genome\\\"[filter]\"\n",
    "db = \"assembly\"\n",
    "retmax = 10  # max number of records to return\n",
    "\n",
    "# Search for records using the Entrez API\n",
    "handle = Entrez.esearch(db=db, term=search_term, retmax=retmax)\n",
    "record = Entrez.read(handle)\n",
    "\n",
    "# Get the list of record IDs from the search results\n",
    "id_list = record[\"IdList\"]\n",
    "print(id_list)\n",
    "# Fetch the records and print them\n",
    "for record_id in id_list:\n",
    "    handle = Entrez.esummary(db=db, id=record_id)\n",
    "    record = Entrez.read(handle)\n",
    "    summary = record['DocumentSummarySet']['DocumentSummary'][0]\n",
    "    print(summary['BioSampleAccn'],summary['BioSampleId'],\"\\n\",summary['AssemblyAccession'])\n",
    "    handle = Entrez.esummary(db='BioSample', id=summary['BioSampleId'])\n",
    "    record = Entrez.read(handle)\n",
    "    summary = record['DocumentSummarySet']['DocumentSummary'][0]\n",
    "    for i in summary.keys():\n",
    "        print(i,\": \", summary[i])\n",
    "    \n"
   ]
  },
  {
   "cell_type": "code",
   "execution_count": 11,
   "metadata": {},
   "outputs": [],
   "source": [
    "with open(f'logs/test_log_ids.json','w') as log:\n",
    "    data = {'label':\n",
    "    {'name':f'a',\n",
    "    'count':f'count'\n",
    "    ,'date':f'data'\n",
    "    },\n",
    "    'entries':{}\n",
    "    }\n",
    "    for i,j in zip(asm_idlist,bsm_idlist):\n",
    "        data['entries'][i]=j\n",
    "    a = json.dumps(data,indent=1)\n",
    "    log.write(a)"
   ]
  },
  {
   "cell_type": "code",
   "execution_count": 14,
   "metadata": {},
   "outputs": [
    {
     "name": "stdout",
     "output_type": "stream",
     "text": [
      "<http.client.HTTPResponse object at 0x7f24e054bf40>\n"
     ]
    }
   ],
   "source": [
    "import time\n",
    "handle = Entrez.esearch(db='assembly', term=f\"(\\\"Aeromonas_sobria\\\"[Organism] OR Aeromonas_sobria[All Fields]) AND (latest[filter] AND \\\"complete genome\\\"[filter] AND all[filter] NOT anomalous[filter])\",idtype=\"acc\",retmax = '100000')\n",
    "time.sleep(0.37)\n",
    "record = Entrez.read(handle)\n",
    "print(record)"
   ]
  }
 ],
 "metadata": {
  "kernelspec": {
   "display_name": "venv",
   "language": "python",
   "name": "python3"
  },
  "language_info": {
   "codemirror_mode": {
    "name": "ipython",
    "version": 3
   },
   "file_extension": ".py",
   "mimetype": "text/x-python",
   "name": "python",
   "nbconvert_exporter": "python",
   "pygments_lexer": "ipython3",
   "version": "3.9.13"
  },
  "orig_nbformat": 4
 },
 "nbformat": 4,
 "nbformat_minor": 2
}
